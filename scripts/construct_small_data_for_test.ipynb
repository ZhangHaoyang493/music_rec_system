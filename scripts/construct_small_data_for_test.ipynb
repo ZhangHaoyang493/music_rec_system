{
 "cells": [
  {
   "cell_type": "code",
   "execution_count": 53,
   "metadata": {},
   "outputs": [],
   "source": [
    "import pandas as pd\n",
    "\n",
    "tarPath = 'data_for_test_scripts'\n",
    "train_data = pd.read_csv('/data/zhy/recommendation_system/musicRec/data/train.csv')\n",
    "song_data = pd.read_csv('/data/zhy/recommendation_system/musicRec/data/songs.csv')"
   ]
  },
  {
   "cell_type": "code",
   "execution_count": null,
   "metadata": {},
   "outputs": [],
   "source": [
    "import numpy as np\n",
    "\n",
    "# 随机选取一些song_id\n",
    "songs_id = np.random.choice(train_data['song_id'].unique(), 300, replace=False)\n",
    "# songs_id"
   ]
  },
  {
   "cell_type": "code",
   "execution_count": 55,
   "metadata": {},
   "outputs": [],
   "source": [
    "# 选出train_data中song_id在songs_id中的数据\n",
    "train_data = train_data[train_data['song_id'].isin(songs_id)]\n",
    "# 存到/data/zhy/recommendation_system/musicRec/data_for_test_scripts\n",
    "train_data.to_csv('/data/zhy/recommendation_system/musicRec/%s/train.csv' % tarPath, index=False)"
   ]
  },
  {
   "cell_type": "code",
   "execution_count": 56,
   "metadata": {},
   "outputs": [],
   "source": [
    "song_data = song_data[song_data['song_id'].isin(songs_id)]\n",
    "song_data.to_csv('/data/zhy/recommendation_system/musicRec/%s/songs.csv' % tarPath, index=False)"
   ]
  },
  {
   "cell_type": "code",
   "execution_count": 57,
   "metadata": {},
   "outputs": [],
   "source": [
    "# 读取memebers.csv，并且将其中用户id在train_data中的选择出来\n",
    "members_data = pd.read_csv('/data/zhy/recommendation_system/musicRec/data/members.csv')\n",
    "members_data_choose = members_data[members_data['msno'].isin(train_data['msno'].unique())]\n",
    "# members_data.to_csv('/data/zhy/recommendation_system/musicRec/data_for_test_scripts/members.csv', index=False)"
   ]
  },
  {
   "cell_type": "code",
   "execution_count": 58,
   "metadata": {},
   "outputs": [],
   "source": [
    "# 读取song_extra_info.csv文件执行类似的操作\n",
    "song_extra_info = pd.read_csv('/data/zhy/recommendation_system/musicRec/data/song_extra_info.csv')\n",
    "song_extra_info = song_extra_info[song_extra_info['song_id'].isin(songs_id)]\n",
    "song_extra_info.to_csv('/data/zhy/recommendation_system/musicRec/%s/song_extra_info.csv' % tarPath, index=False)"
   ]
  },
  {
   "cell_type": "code",
   "execution_count": 59,
   "metadata": {},
   "outputs": [],
   "source": [
    "# 读取test.csv文件执行类似的操作\n",
    "test_data = pd.read_csv('/data/zhy/recommendation_system/musicRec/data/test.csv')\n",
    "test_data = test_data[test_data['song_id'].isin(songs_id)]\n",
    "test_data.to_csv('/data/zhy/recommendation_system/musicRec/%s/test.csv' % tarPath, index=False)"
   ]
  },
  {
   "cell_type": "code",
   "execution_count": 60,
   "metadata": {},
   "outputs": [],
   "source": [
    "# 将出现在test_data中的用户id，但没有出现在member_choose里面的选出来\n",
    "test_data = test_data[~test_data['msno'].isin(members_data_choose['msno'].unique())]\n",
    "members_data_not_choose = members_data[members_data['msno'].isin(test_data['msno'].unique())]\n",
    "\n",
    "# 将members_data_not_choose和members_data_choose合并\n",
    "members_data_to_save = pd.concat([members_data_choose, members_data_not_choose]).reset_index(drop=True)\n",
    "# 保存到文件\n",
    "members_data_to_save.to_csv('/data/zhy/recommendation_system/musicRec/%s/members.csv' % tarPath, index=False)\n"
   ]
  }
 ],
 "metadata": {
  "kernelspec": {
   "display_name": "taming",
   "language": "python",
   "name": "python3"
  },
  "language_info": {
   "codemirror_mode": {
    "name": "ipython",
    "version": 3
   },
   "file_extension": ".py",
   "mimetype": "text/x-python",
   "name": "python",
   "nbconvert_exporter": "python",
   "pygments_lexer": "ipython3",
   "version": "3.8.5"
  }
 },
 "nbformat": 4,
 "nbformat_minor": 2
}
